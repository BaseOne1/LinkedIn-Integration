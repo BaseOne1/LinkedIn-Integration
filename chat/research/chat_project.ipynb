{
 "cells": [
  {
   "cell_type": "code",
   "execution_count": null,
   "id": "97e2e91c",
   "metadata": {},
   "outputs": [],
   "source": [
    "import os\n",
    "import sys\n",
    "import requests\n",
    "import json\n",
    "from datetime import datetime\n",
    "from pprint import pprint\n",
    "from pathlib import Path\n",
    "from pymongo import MongoClient\n",
    "from dotenv import load_dotenv\n",
    "import urllib.parse\n",
    "import openai"
   ]
  },
  {
   "cell_type": "code",
   "execution_count": null,
   "id": "f19207a2",
   "metadata": {},
   "outputs": [],
   "source": [
    "load_dotenv()\n",
    "\n",
    "UNIPILE_ACCESS_TOKEN = os.getenv(\"ACCESS_TOKEN\")\n",
    "mongo_uri = os.getenv(\"MONGO_URI\")\n",
    "mongo_db_name = os.getenv(\"MONGO_DB_NAME\")\n",
    "mongo_collection_name = os.getenv(\"MONGO_COLLECTION_NAME\")\n",
    "\n",
    "openai.api_key = os.getenv(\"OPENAI_API_KEY\")\n",
    "LAMBDA_WEBHOOK_URL = os.getenv(\"LAMBDA_WEBHOOK_URL\")\n",
    "\n",
    "HEADERS = {\n",
    "    \"Authorization\": f\"Bearer {ACCESS_TOKEN}\",\n",
    "    \"X-Restli-Protocol-Version\": \"2.0.0\",\n",
    "    \"Content-Type\": \"application/json\",\n",
    "    \"LinkedIn-Version\": \"202503\"\n",
    "}\n",
    "\n",
    "LINKEDIN_BASE_URL = \"https://api.linkedin.com\""
   ]
  }
 ],
 "metadata": {
  "kernelspec": {
   "display_name": "machine_learning",
   "language": "python",
   "name": "python3"
  },
  "language_info": {
   "name": "python",
   "version": "3.9.19"
  }
 },
 "nbformat": 4,
 "nbformat_minor": 5
}
