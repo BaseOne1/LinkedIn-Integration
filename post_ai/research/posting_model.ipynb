{
 "cells": [
  {
   "cell_type": "code",
   "execution_count": 27,
   "id": "a1bfcd22",
   "metadata": {},
   "outputs": [],
   "source": [
    "import os\n",
    "import json\n",
    "import base64\n",
    "import boto3\n",
    "import requests\n",
    "import fal_client\n",
    "import openai\n",
    "import smtplib\n",
    "from datetime import datetime\n",
    "from base64 import b64decode\n",
    "from email.mime.multipart import MIMEMultipart\n",
    "from email.mime.text import MIMEText\n",
    "from email.mime.image import MIMEImage\n",
    "from dotenv import load_dotenv, find_dotenv"
   ]
  },
  {
   "cell_type": "code",
   "execution_count": null,
   "id": "12795893",
   "metadata": {},
   "outputs": [
    {
     "name": "stdout",
     "output_type": "stream",
     "text": [
      "FINE_TUNE_ID: 7580067a-4326-454c-a66d-ac2cc2a7dde4\n"
     ]
    }
   ],
   "source": [
    "# Load env vars\n",
    "load_dotenv(find_dotenv(), override=True)\n",
    "\n",
    "for key in [\"FINE_TUNE_ID\"]:\n",
    "    print(f\"{key}: {os.getenv(key)}\")\n",
    "\n",
    "openai.api_key = os.getenv(\"OPENAI_API_KEY\")\n",
    "FAL_KEY = os.getenv(\"FAL_KEY\")\n",
    "FINE_TUNE_ID = os.getenv(\"FINE_TUNE_ID\")\n",
    "s3 = boto3.client('s3')\n",
    "bucket_name = \"falaipostings\"\n",
    "EMAIL_FROM = os.getenv(\"EMAIL_SENDER\")\n",
    "EMAIL_TO = os.getenv(\"EMAIL_RECEIVER\")\n",
    "smtp_user = os.getenv(\"SES_SMTP_USER\")\n",
    "smtp_pass = os.getenv(\"SES_SMTP_PASS\")\n",
    "SMTP_SERVER = os.getenv(\"SMTP_SERVER\")\n",
    "SMTP_PORT = os.getenv(\"SMTP_PORT\")"
   ]
  },
  {
   "cell_type": "code",
   "execution_count": 29,
   "id": "8d75bfeb",
   "metadata": {},
   "outputs": [],
   "source": [
    "def generate_post_content(prompt: str = None) -> str:\n",
    "    prompt = prompt or (\n",
    "        \"Your are a bot specialized in creating marketing content \"\n",
    "        \"in 5 points with emoticons and hashtags for LinkedIn posts \"\n",
    "        \"for Baseone, a company focused on Agentic AI and analytics.\"\n",
    "    )\n",
    "    response = openai.ChatCompletion.create(\n",
    "        model=\"gpt-4\",\n",
    "        messages=[{\"role\": \"user\", \"content\": prompt}],\n",
    "        max_tokens=300\n",
    "    )\n",
    "    return response['choices'][0]['message']['content']"
   ]
  },
  {
   "cell_type": "code",
   "execution_count": 30,
   "id": "c9802eef",
   "metadata": {},
   "outputs": [],
   "source": [
    "def generate_image(prompt: str) -> str:\n",
    "    result = fal_client.subscribe(\n",
    "        \"fal-ai/flux-pro/v1.1-ultra-finetuned\",\n",
    "        arguments={\n",
    "            \"prompt\": prompt,\n",
    "            \"guidance_scale\": 10,\n",
    "            \"seed\": 0,\n",
    "            \"sync_mode\": False,\n",
    "            \"num_images\": 3,\n",
    "            \"enable_safety_checker\": False,\n",
    "            \"safety_tolerance\": 6,\n",
    "            \"output_format\": \"jpeg\",\n",
    "            \"aspect_ratio\": \"1:1\",\n",
    "            \"finetune_id\": FINE_TUNE_ID,\n",
    "            \"finetune_strength\": 0.7\n",
    "        },\n",
    "        with_logs=True,\n",
    "    )\n",
    "    if result and 'images' in result and result['images']:\n",
    "        return result['images'][0]['url']\n",
    "    return None"
   ]
  },
  {
   "cell_type": "code",
   "execution_count": 31,
   "id": "e5cb0aad",
   "metadata": {},
   "outputs": [],
   "source": [
    "def upload_post_to_s3(post_text: str, image_url: str, bucket_name: str = bucket_name) -> str:\n",
    "    \"\"\"Uploads the post text + image URL to S3.\"\"\"\n",
    "    timestamp = datetime.utcnow().isoformat().replace(\":\", \"-\")\n",
    "    filename = f\"pending/post_{timestamp}.json\"\n",
    "\n",
    "    post_data = {\n",
    "        \"text\": post_text,\n",
    "        \"image_url\": image_url,\n",
    "        \"status\": \"pending\"\n",
    "    }\n",
    "\n",
    "    s3.put_object(Bucket=bucket_name, Key=filename, Body=json.dumps(post_data))\n",
    "    print(f\"Uploaded post to S3 at {filename}\")\n",
    "    return filename"
   ]
  },
  {
   "cell_type": "code",
   "execution_count": 32,
   "id": "d5dac5c6",
   "metadata": {},
   "outputs": [],
   "source": [
    "def upload_post_to_s3(post_text: str, image_url: str) -> str:\n",
    "    timestamp = datetime.utcnow().isoformat().replace(\":\", \"-\")\n",
    "    key = f\"pending/post_{timestamp}.json\"\n",
    "\n",
    "    response = requests.get(image_url)\n",
    "    if response.status_code != 200:\n",
    "        raise Exception(\"Failed to download image.\")\n",
    "\n",
    "    image_base64 = base64.b64encode(response.content).decode('utf-8')\n",
    "    image_data_uri = f\"data:image/jpeg;base64,{image_base64}\"\n",
    "\n",
    "    post_data = {\n",
    "        \"text\": post_text,\n",
    "        \"image_url\": image_url,\n",
    "        \"image_base64\": image_data_uri,\n",
    "        \"status\": \"pending\"\n",
    "    }\n",
    "\n",
    "    s3.put_object(Bucket=bucket_name, Key=key, Body=json.dumps(post_data))\n",
    "    print(f\"Uploaded post to S3: {key}\")\n",
    "\n",
    "    send_email_to_receiver(post_text, key)\n",
    "    return key"
   ]
  },
  {
   "cell_type": "code",
   "execution_count": 33,
   "id": "d3b10057",
   "metadata": {},
   "outputs": [],
   "source": [
    "def send_email_to_receiver(post_text: str, key: str):\n",
    "    msg = MIMEMultipart(\"related\")\n",
    "    msg[\"Subject\"] = \"New LinkedIn Post Pending Approval\"\n",
    "    msg[\"From\"] = EMAIL_FROM\n",
    "    msg[\"To\"] = EMAIL_TO\n",
    "\n",
    "    response = s3.get_object(Bucket=bucket_name, Key=key)\n",
    "    post_data = json.loads(response[\"Body\"].read())\n",
    "\n",
    "    base64_image_data = post_data.get(\"image_base64\", \"\")\n",
    "    image_bytes = b64decode(base64_image_data.split(\",\")[1]) if \",\" in base64_image_data else b\"\"\n",
    "\n",
    "    approve_link = f\"https://ther7oaeqc.execute-api.ap-south-1.amazonaws.com/default/postai?file={key}&action=approve\"\n",
    "    reject_link = f\"https://ther7oaeqc.execute-api.ap-south-1.amazonaws.com/default/postai?file={key}&action=reject\"\n",
    "\n",
    "    html = f\"\"\"\n",
    "    <html>\n",
    "        <body>\n",
    "            <h2>New LinkedIn Post Ready</h2>\n",
    "            <p>{post_text}</p>\n",
    "            <img src=\"cid:postimage\" style=\"max-width: 500px; border: 1px solid #ccc;\" />\n",
    "            <br><br>\n",
    "            <a href='{approve_link}' style='padding:10px 20px; background-color:green; color:white; text-decoration:none;'>OK</a>\n",
    "            &nbsp;&nbsp;\n",
    "            <a href='{reject_link}' style='padding:10px 20px; background-color:red; color:white; text-decoration:none;'>Not OK</a>\n",
    "        </body>\n",
    "    </html>\n",
    "    \"\"\"\n",
    "\n",
    "    msg.attach(MIMEText(html, \"html\"))\n",
    "\n",
    "    if image_bytes:\n",
    "        img = MIMEImage(image_bytes)\n",
    "        img.add_header(\"Content-ID\", \"<postimage>\")\n",
    "        img.add_header(\"Content-Disposition\", \"inline\", filename=\"post.jpg\")\n",
    "        msg.attach(img)\n",
    "\n",
    "    try:\n",
    "        with smtplib.SMTP(SMTP_SERVER, SMTP_PORT) as server:\n",
    "            server.starttls()\n",
    "            server.login(smtp_user, smtp_pass)\n",
    "            server.sendmail(EMAIL_FROM, EMAIL_TO, msg.as_string())\n",
    "            print(\"Email sent successfully!\")\n",
    "    except Exception as e:\n",
    "        print(f\"Email failed: {e}\")"
   ]
  },
  {
   "cell_type": "code",
   "execution_count": 34,
   "id": "d9986cd8",
   "metadata": {},
   "outputs": [
    {
     "name": "stdout",
     "output_type": "stream",
     "text": [
      "Generating post content...\n",
      "Generating image...\n",
      "Uploading post to S3 and sending email...\n",
      "Uploaded post to S3: pending/post_2025-04-25T10-59-13.966090.json\n",
      "Email sent successfully!\n"
     ]
    }
   ],
   "source": [
    "if __name__ == \"__main__\":\n",
    "    print(\"Generating post content...\")\n",
    "    post_text = generate_post_content()\n",
    "\n",
    "    print(\"Generating image...\")\n",
    "    image_prompt = \"a group of SaaS analytics professionals in presentatoin screen with Baseone Name in it\"\n",
    "    image_url = generate_image(image_prompt)\n",
    "\n",
    "    print(\"Uploading post to S3 and sending email...\")\n",
    "    upload_post_to_s3(post_text, image_url)"
   ]
  }
 ],
 "metadata": {
  "kernelspec": {
   "display_name": "machine_learning",
   "language": "python",
   "name": "python3"
  },
  "language_info": {
   "codemirror_mode": {
    "name": "ipython",
    "version": 3
   },
   "file_extension": ".py",
   "mimetype": "text/x-python",
   "name": "python",
   "nbconvert_exporter": "python",
   "pygments_lexer": "ipython3",
   "version": "3.9.19"
  }
 },
 "nbformat": 4,
 "nbformat_minor": 5
}
