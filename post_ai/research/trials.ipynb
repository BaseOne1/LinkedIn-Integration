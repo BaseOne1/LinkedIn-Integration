{
 "cells": [
  {
   "cell_type": "code",
   "execution_count": null,
   "id": "2df03341",
   "metadata": {},
   "outputs": [],
   "source": [
    "import os\n",
    "from unittest.mock import MagicMock, patch\n",
    "from src.post_ai.email.email_handler import send_email_to_receiver\n",
    "\n",
    "# Set required environment variables (or ensure they are loaded)\n",
    "os.environ[\"EMAIL_RECEIVER\"] = \"testreceiver@example.com\"\n",
    "os.environ[\"EMAIL_SENDER\"] = \"testsender@example.com\"\n",
    "os.environ[\"SMTP_SERVER\"] = \"smtp.testserver.com\"\n",
    "os.environ[\"SMTP_PORT\"] = \"587\"\n",
    "os.environ[\"SES_SMTP_USER\"] = \"test_smtp_user\"\n",
    "os.environ[\"SES_SMTP_PASS\"] = \"test_smtp_pass\"\n",
    "\n",
    "# Mocked post data to simulate S3 response\n",
    "mock_post_data = {\n",
    "    \"Body\": MagicMock(read=lambda: b'{\"image_base64\": \"data:image/jpeg;base64,/9j/4AAQSkZJRgABAQAAAQABAAD...\", \"text\": \"This is a mock LinkedIn post.\"}')\n",
    "}\n",
    "\n",
    "# Patch the s3 client and smtplib.SMTP\n",
    "with patch(\"src.post_ai.db.s3_client.s3.get_object\", return_value=mock_post_data), \\\n",
    "     patch(\"smtplib.SMTP\") as mock_smtp:\n",
    "\n",
    "    # Run the function with dummy inputs\n",
    "    send_email_to_receiver(\"Mock post text for testing\", \"dummy-key.json\")\n",
    "\n",
    "    # Check the mocked SMTP call\n",
    "    print(\"SMTP send called:\", mock_smtp.called)\n"
   ]
  }
 ],
 "metadata": {
  "kernelspec": {
   "display_name": "machine_learning",
   "language": "python",
   "name": "python3"
  },
  "language_info": {
   "codemirror_mode": {
    "name": "ipython",
    "version": 3
   },
   "file_extension": ".py",
   "mimetype": "text/x-python",
   "name": "python",
   "nbconvert_exporter": "python",
   "pygments_lexer": "ipython3",
   "version": "3.9.19"
  }
 },
 "nbformat": 4,
 "nbformat_minor": 5
}
